{
 "cells": [
  {
   "cell_type": "markdown",
   "metadata": {},
   "source": [
    "# Lab Five\n",
    "---\n",
    "\n",
    "For this lab we're going to be messing around with our Linear Data Types!\n",
    "\n",
    "Our Goals are:\n",
    "- Creating an Array\n",
    "- Creating an ArrayList\n",
    "- Creating an LinkedList\n",
    "- Creating an Queue\n",
    "- Creating an Stack \n",
    "\n",
    "Please show the ability to:\n",
    "- Create these data types\n",
    "- Populate the data types\n",
    "- Print out the Linear Data Types"
   ]
  },
  {
   "cell_type": "code",
   "execution_count": 3,
   "metadata": {},
   "outputs": [
    {
     "name": "stdout",
     "output_type": "stream",
     "text": [
      "2\n",
      "3\n",
      "4\n",
      "5\n",
      "6\n",
      "7\n"
     ]
    }
   ],
   "source": [
    "// Create an Array, Populate it, and Print it out\n",
    "\n",
    "int[] numbers = {2,3,4,5,6,7};\n",
    "for (int i = 0; i < numbers.length; i++){\n",
    "    System.out.println(numbers[i]);\n",
    "}"
   ]
  },
  {
   "cell_type": "code",
   "execution_count": 5,
   "metadata": {},
   "outputs": [
    {
     "name": "stdout",
     "output_type": "stream",
     "text": [
      "5\n",
      "6\n",
      "7\n",
      "8\n",
      "10\n",
      "56\n"
     ]
    }
   ],
   "source": [
    "// Create an ArrayList, Populate it, and Print it out\n",
    "\n",
    "import java.util.ArrayList;\n",
    "\n",
    "ArrayList<Integer> listGN = new ArrayList(Arrays.asList(5,6,7,8,10,56));\n",
    "\n",
    "for(int i=0; i < listGN.size(); i++){\n",
    "    System.out.println(listGN.get(i));\n",
    "}"
   ]
  },
  {
   "cell_type": "code",
   "execution_count": 8,
   "metadata": {},
   "outputs": [
    {
     "name": "stdout",
     "output_type": "stream",
     "text": [
      "[Gaby, McKenna, Bria]\n"
     ]
    }
   ],
   "source": [
    "// Create an LinkedList, Populate it, and Print it out\n",
    "\n",
    "import java.util.LinkedList;\n",
    "\n",
    "LinkedList<String> names = new LinkedList<String>();\n",
    "\n",
    "names.add(\"Gaby\");\n",
    "names.add(\"McKenna\");\n",
    "names.add(\"Bria\");\n",
    "names.add(\"Mya\");\n",
    "names.remove(\"Mya\");\n",
    "\n",
    "System.out.println(names);"
   ]
  },
  {
   "cell_type": "code",
   "execution_count": 9,
   "metadata": {},
   "outputs": [
    {
     "name": "stdout",
     "output_type": "stream",
     "text": [
      "[I Will Always Love You, NormaL Girl, Back to Black]\n"
     ]
    }
   ],
   "source": [
    "// Create an Queue, Populate it, and Print it out\n",
    "\n",
    "import java.util.Queue;\n",
    "\n",
    "Queue<String> Playlist = new LinkedList<String>();\n",
    "Playlist.add(\"I Will Always Love You\");\n",
    "Playlist.add(\"NormaL Girl\");\n",
    "Playlist.add(\"Back to Black\");\n",
    "\n",
    "System.out.println(Playlist);\n"
   ]
  },
  {
   "cell_type": "code",
   "execution_count": 14,
   "metadata": {},
   "outputs": [
    {
     "name": "stdout",
     "output_type": "stream",
     "text": [
      "[Bun, Meat, lettuce, Tomato, Cheese]\n"
     ]
    }
   ],
   "source": [
    "// Create an Stack, Populate it, and Print it out\n",
    "\n",
    "import java.util.Stack;\n",
    "\n",
    "Stack<String> burger = new Stack<String>(); \n",
    "\n",
    "burger.push(\"Bun\");\n",
    "burger.push(\"Meat\");\n",
    "burger.push(\"lettuce\");\n",
    "burger.push(\"Tomato\");\n",
    "burger.push(\"Cheese\");\n",
    "burger.push(\"Bun\");\n",
    "burger.pop();\n",
    "\n",
    "System.out.println(burger);\n",
    "\n",
    "\n"
   ]
  }
 ],
 "metadata": {
  "kernelspec": {
   "display_name": "Java",
   "language": "java",
   "name": "java"
  },
  "language_info": {
   "codemirror_mode": "java",
   "file_extension": ".jshell",
   "mimetype": "text/x-java-source",
   "name": "Java",
   "pygments_lexer": "java",
   "version": "15.0.2+7-27"
  },
  "orig_nbformat": 2
 },
 "nbformat": 4,
 "nbformat_minor": 2
}