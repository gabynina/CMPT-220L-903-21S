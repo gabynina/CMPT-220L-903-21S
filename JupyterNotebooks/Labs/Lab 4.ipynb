{
 "cells": [
  {
   "cell_type": "markdown",
   "metadata": {},
   "source": [
    "# Lab Four\n",
    "---\n",
    "\n",
    "For this lab we're going to be messing around with Markdown!\n",
    "\n",
    "Our Goals are:\n",
    "- Using Markdown!\n",
    "\n",
    "I want you to describe to me your process of converting the assignment and making it DRY. \n",
    "\n",
    "Please show the ability to:\n",
    "- Make a header\n",
    "- Make a list (ordered or unordered)\n",
    "- Link the Markdown Guide from the lesson. \n",
    "- Artuculate your thought process."
   ]
  },
  {
   "cell_type": "markdown",
   "metadata": {},
   "source": [
    "## Assignment 5 \n",
    "---\n",
    "\n",
    "DRYing off code is used to organize and reduce the repetition of code.\n",
    "\n",
    "I first analyzed the WET code by understanding what each each customer was inputting \n",
    "- For every customer the pretezel and lemonade inventory decreased by how many were purchased \n",
    "- Some customers gave a tip and others did not\n",
    "- The cash at hand was calculated by multiplying the amount of pretzels or lemonades purchased by its unit price.\n",
    "\n",
    "To make the dry code I needed to create a function called order() that concised all the information in the wet code\n",
    "- The function accepts three parameters, the number of pretzels, lemondae purchased and tips\n",
    "- I then added two varibales to my intial varibales for the prices of each lemonade (lemonade_Price) and each pretzel (pretzel_Price) that would be purchased \n",
    "- I then created a forumla that would update the number of preztels avalibale by subtracting the number of pretzels purchased from the inventory \n",
    "- I then used a very similar formula to update the number of lemonades purchased from the inventory \n",
    "- I then created a formula to calculate the tips total.\n",
    "- Then to keep track of the cash at hand I created a forumla that calculated the sum of the number of pretzels purchased multiplied by the price of pretzels along with the lemonades purchased\n",
    "\n",
    "I then created a dry inventory function that inputed all the customer data using the oder() function. \n",
    "\n",
    "I then called this function in main and printed a summary of the results for the hour. \n",
    "\n",
    "\n",
    "## [Markdown Guide](https://www.markdownguide.org)\n",
    "\n",
    "\n"
   ]
  },
  {
   "cell_type": "code",
   "execution_count": null,
   "metadata": {},
   "outputs": [],
   "source": []
  }
 ],
 "metadata": {
  "kernelspec": {
   "display_name": "Python 3.9.2 64-bit",
   "name": "python392jvsc74a57bd0aee8b7b246df8f9039afb4144a1f6fd8d2ca17a180786b69acc140d282b71a49"
  },
  "language_info": {
   "name": "python",
   "version": ""
  },
  "orig_nbformat": 2
 },
 "nbformat": 4,
 "nbformat_minor": 2
}