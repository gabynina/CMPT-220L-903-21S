{
 "cells": [
  {
   "cell_type": "markdown",
   "metadata": {},
   "source": [
    "# Lab One\n",
    "---\n",
    "\n",
    "Ok for this lab we're going to reiterate a lot of the things that we went over in class.\n",
    "\n",
    "Our Goals are:\n",
    "- Binary Math\n",
    "- Defining Variables\n",
    "    - Primitive Types\n",
    "    - Reference Types\n",
    "- Using Math\n",
    "- Manipulating Variables"
   ]
  },
  {
   "cell_type": "markdown",
   "metadata": {},
   "source": [
    "For this section I just want you to type the answer. I know that you can just look this up but try and do the math. \n",
    "### What is 1000 in Decimal\n",
    "8\n",
    "### What is 1000 1001 in Decimal (This is a byte. It's just split for readability)\n",
    "137\n",
    "### What is 1010 1111 in Decimal (This is a byte. It's just split for readability)\n",
    "175\n",
    "### What is 0101 1010 in Decimal (This is a byte. It's just split for readability)\n",
    "90"
   ]
  },
  {
   "cell_type": "code",
   "execution_count": 1,
   "metadata": {},
   "outputs": [
    {
     "name": "stdout",
     "output_type": "stream",
     "text": [
      "false\n",
      "125\n",
      "32701\n",
      "589\n",
      "8\n",
      "0.5345\n",
      "2.878678\n",
      "g\n"
     ]
    }
   ],
   "source": [
    "// Define 8 variables, one of each type listed: [boolean, byte, short, int, long, float, double, char]. Print all 8 of them.\n",
    "\n",
    "boolean gaby1 = false;\n",
    "byte gaby2 = 125;\n",
    "short gaby3 = 32701;\n",
    "int gaby4 = 589;\n",
    "long gaby5 = 8;\n",
    "float gaby6 = 0.5345f;\n",
    "double gaby7 = 2.878678;\n",
    "char gaby8 = 'g';\n",
    "\n",
    "System.out.println(gaby1);\n",
    "System.out.println(gaby2);\n",
    "System.out.println(gaby3);\n",
    "System.out.println(gaby4);\n",
    "System.out.println(gaby5);\n",
    "System.out.println(gaby6);\n",
    "System.out.println(gaby7);\n",
    "System.out.println(gaby8);"
   ]
  },
  {
   "cell_type": "code",
   "execution_count": 1,
   "metadata": {},
   "outputs": [
    {
     "name": "stdout",
     "output_type": "stream",
     "text": [
      "[oranges, Bananas, Cucumber, Yogurt]\n"
     ]
    }
   ],
   "source": [
    "// Make me a list of any type\n",
    "\n",
    "import java.util.ArrayList;\n",
    "import java.util.Arrays;\n",
    "import java.util.LinkedList;\n",
    "\n",
    "ArrayList<String> list=new ArrayList<String>();\n",
    "\n",
    "list.add(\"oranges\");\n",
    "list.add(\"Bananas\");\n",
    "list.add(\"Cucumber\");\n",
    "list.add(\"Yogurt\");\n",
    "\n",
    "System.out.println(list);\n"
   ]
  },
  {
   "cell_type": "code",
   "execution_count": 4,
   "metadata": {},
   "outputs": [
    {
     "name": "stdout",
     "output_type": "stream",
     "text": [
      "101\n",
      "55\n",
      "3\n",
      "1794\n",
      "9\n"
     ]
    }
   ],
   "source": [
    "// With whatever variables you'd like demonstrate the following: [Addition, Subtraction, Division, Multiplication, Modulo]. Print all 5.\n",
    "int gnum1 = 23;\n",
    "int gnum2 = 78;\n",
    "\n",
    "System.out.println(gnum1+gnum2);\n",
    "System.out.println(gnum2-gnum1);\n",
    "System.out.println(gnum2/gnum1);\n",
    "System.out.println(gnum1*gnum2);\n",
    "System.out.println(gnum2%gnum1);\n"
   ]
  },
  {
   "cell_type": "code",
   "execution_count": 6,
   "metadata": {},
   "outputs": [
    {
     "name": "stdout",
     "output_type": "stream",
     "text": [
      "57\n"
     ]
    }
   ],
   "source": [
    "// Using 2 variables and addition print the number 57\n",
    "\n",
    "int gnum3 = 50;\n",
    "int gnum4 = 7;\n",
    "System.out.println(gnum3 + gnum4);\n"
   ]
  },
  {
   "cell_type": "code",
   "execution_count": 10,
   "metadata": {},
   "outputs": [
    {
     "name": "stdout",
     "output_type": "stream",
     "text": [
      "h\n",
      "how are you\n"
     ]
    }
   ],
   "source": [
    "// Define a variable and print it out. Then alter the same variable and print it out. This can be through string concatenation or addition, etc.\n",
    "\n",
    "char gabya = 'h';\n",
    "\n",
    "System.out.println(gabya);\n",
    "System.out.println(gabya + \"ow are you\");"
   ]
  }
 ],
 "metadata": {
  "kernelspec": {
   "display_name": "Java",
   "language": "java",
   "name": "java"
  },
  "language_info": {
   "codemirror_mode": "java",
   "file_extension": ".jshell",
   "mimetype": "text/x-java-source",
   "name": "Java",
   "pygments_lexer": "java",
   "version": "15.0.2+7-27"
  },
  "orig_nbformat": 2
 },
 "nbformat": 4,
 "nbformat_minor": 2
}