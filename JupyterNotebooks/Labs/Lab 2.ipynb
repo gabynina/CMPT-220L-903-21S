{
 "cells": [
  {
   "cell_type": "markdown",
   "metadata": {},
   "source": [
    "# Lab Two\n",
    "---\n",
    "\n",
    "Ok for this lab we're going to reiterate a lot of the things that we went over in class.\n",
    "\n",
    "Our Goals are:\n",
    "- Conditionals\n",
    "    - If\n",
    "    - Else\n",
    "    - Else If"
   ]
  },
  {
   "cell_type": "code",
   "execution_count": 10,
   "metadata": {},
   "outputs": [
    {
     "name": "stdout",
     "output_type": "stream",
     "text": [
      "hello\n"
     ]
    }
   ],
   "source": [
    "// Make an if statement\n",
    "  if (true) {\n",
    "      System.out.println(\"hello\");\n",
    "  }"
   ]
  },
  {
   "cell_type": "code",
   "execution_count": 9,
   "metadata": {},
   "outputs": [
    {
     "name": "stdout",
     "output_type": "stream",
     "text": [
      "Have a great day\n"
     ]
    }
   ],
   "source": [
    "// Make an if, else statement where the else statement triggers\n",
    "\n",
    "if (!true) {\n",
    "    System.out.println(\"hello\");\n",
    "} else {\n",
    "    System.out.println(\"Have a great day\");\n",
    "}"
   ]
  },
  {
   "cell_type": "code",
   "execution_count": 1,
   "metadata": {},
   "outputs": [
    {
     "name": "stdout",
     "output_type": "stream",
     "text": [
      "How are you\n"
     ]
    }
   ],
   "source": [
    "// Make an if, else if, else statement where the else if statement triggers\n",
    "\n",
    "if (!true) {\n",
    "    System.out.println(\"hello\");\n",
    "} else if (true){\n",
    "    System.out.println(\"How are you\");\n",
    "} else {\n",
    "    System.out.println(\"Have a great day\");\n",
    "}"
   ]
  },
  {
   "cell_type": "code",
   "execution_count": 6,
   "metadata": {},
   "outputs": [
    {
     "name": "stdout",
     "output_type": "stream",
     "text": [
      "they are not equal\n"
     ]
    }
   ],
   "source": [
    "// Make 2 variables and use them in an if else conditional\n",
    "\n",
    "int number1 = 3;\n",
    "int number2 = 6;\n",
    "\n",
    "if (number1 == number2) {\n",
    "    System.out.println(\"they are equal\");\n",
    "} else {\n",
    "    System.out.println(\"they are not equal\");\n",
    "}"
   ]
  },
  {
   "cell_type": "code",
   "execution_count": 5,
   "metadata": {},
   "outputs": [
    {
     "name": "stdout",
     "output_type": "stream",
     "text": [
      "this is an example\n"
     ]
    }
   ],
   "source": [
    "// Make an if statement using 2 variables and an AND(&&) statement\n",
    "\n",
    "int a = 45;\n",
    "int b = 56;\n",
    "\n",
    "if (a<b && b == 56) {\n",
    "    System.out.println(\"this is an example\");\n",
    "}\n",
    "else {\n",
    "    System.out.println(\"this is an else statement\");\n",
    "}"
   ]
  },
  {
   "cell_type": "code",
   "execution_count": 7,
   "metadata": {},
   "outputs": [
    {
     "name": "stdout",
     "output_type": "stream",
     "text": [
      "This is an example\n"
     ]
    }
   ],
   "source": [
    "// Make an if statement using 2 variables and an OR(||) statement\n",
    "\n",
    "int c = 34;\n",
    "int d = 67;\n",
    "\n",
    "if(c < d || d == 78 ) {\n",
    "    System.out.println(\"This is an example\");\n",
    "}\n",
    "else{\n",
    "    System.out.println(\"this is an else statement\");\n",
    "}"
   ]
  }
 ],
 "metadata": {
  "kernelspec": {
   "display_name": "Java",
   "language": "java",
   "name": "java"
  },
  "language_info": {
   "codemirror_mode": "java",
   "file_extension": ".jshell",
   "mimetype": "text/x-java-source",
   "name": "Java",
   "pygments_lexer": "java",
   "version": "15.0.2+7-27"
  },
  "orig_nbformat": 2
 },
 "nbformat": 4,
 "nbformat_minor": 2
}