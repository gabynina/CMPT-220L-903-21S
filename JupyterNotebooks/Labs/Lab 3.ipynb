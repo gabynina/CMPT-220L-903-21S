{
 "cells": [
  {
   "cell_type": "markdown",
   "metadata": {},
   "source": [
    "# Lab Three\n",
    "---\n",
    "\n",
    "For this lab we're going to be making and using a bunch of functions. \n",
    "\n",
    "Our Goals are:\n",
    "- Switch Case\n",
    "- Looping\n",
    "- Making our own functions\n",
    "- Combining functions\n",
    "- Structuring solutions"
   ]
  },
  {
   "cell_type": "code",
   "execution_count": 1,
   "metadata": {},
   "outputs": [
    {
     "name": "stdout",
     "output_type": "stream",
     "text": [
      "A blueberry is blue\n"
     ]
    }
   ],
   "source": [
    "// Give me an example of you using switch case.\n",
    "\n",
    "String starter = \"blueberry\";\n",
    "\n",
    "switch(starter){\n",
    "    case \"cherry\":\n",
    "        System.out.println(\"A cherry is red\");\n",
    "        break;\n",
    "    case \"blueberry\":\n",
    "        System.out.println(\"A blueberry is blue\");\n",
    "        break;\n",
    "    case \"banana\":\n",
    "        System.out.println(\"A banana is yellow\");\n",
    "        break;\n",
    "    default:\n",
    "        System.out.println(\"that fruit is not listed\");\n",
    "}"
   ]
  },
  {
   "cell_type": "code",
   "execution_count": 2,
   "metadata": {},
   "outputs": [
    {
     "name": "stdout",
     "output_type": "stream",
     "text": [
      "We're currently printing out: 10\n",
      "We're currently printing out: 11\n",
      "We're currently printing out: 12\n",
      "We're currently printing out: 13\n",
      "We're currently printing out: 14\n",
      "We're currently printing out: 15\n",
      "We're currently printing out: 16\n",
      "We're currently printing out: 17\n",
      "We're currently printing out: 18\n",
      "We're currently printing out: 19\n",
      "We're currently printing out: 20\n"
     ]
    }
   ],
   "source": [
    "// Give me an example of you using a for loop\n",
    "\n",
    "for (int x=10; x < 21; x++) {\n",
    "    System.out.println(\"We're currently printing out: \" + x);\n",
    "}"
   ]
  },
  {
   "cell_type": "code",
   "execution_count": 3,
   "metadata": {},
   "outputs": [
    {
     "name": "stdout",
     "output_type": "stream",
     "text": [
      "Mya\n",
      "McKenna\n",
      "Brooke\n",
      "Bria\n",
      "Bella\n",
      "Liz\n",
      "Paige\n"
     ]
    }
   ],
   "source": [
    "// Give me an example of you using a for each loop\n",
    "\n",
    "String[] X2 = {\"Mya\", \"McKenna\", \"Brooke\", \"Bria\", \"Bella\", \"Liz\", \"Paige\"};\n",
    "\n",
    "for (String names: X2) {\n",
    "    System.out.println(names);\n",
    "}\n"
   ]
  },
  {
   "cell_type": "code",
   "execution_count": 4,
   "metadata": {},
   "outputs": [
    {
     "name": "stdout",
     "output_type": "stream",
     "text": [
      "0\n",
      "1\n",
      "2\n",
      "3\n",
      "4\n",
      "5\n",
      "6\n",
      "7\n",
      "8\n",
      "9\n",
      "10\n"
     ]
    }
   ],
   "source": [
    "// Give me an example of you using a while loop\n",
    "\n",
    "int start = 0;\n",
    "\n",
    "while(start <= 10) {\n",
    "    System.out.println(start);\n",
    "    start++;\n",
    "}\n",
    "\n",
    " "
   ]
  },
  {
   "cell_type": "code",
   "execution_count": 5,
   "metadata": {},
   "outputs": [
    {
     "name": "stdout",
     "output_type": "stream",
     "text": [
      "8\n"
     ]
    }
   ],
   "source": [
    "// I want you to write a function that will take in a number and raise it to the power given. \n",
    "\n",
    "// For example if given the numbers 2 and 3. The math that the function should do is 2^3 and should print out or return 8. Print the output.\n",
    "\n",
    "\n",
    "int power (int input1, int input2){\n",
    "\n",
    "    int result = input1; \n",
    "\n",
    "    for (int i = 1; i<input2; i++){\n",
    "        result = result * input1;\n",
    "    }\n",
    "    return result;\n",
    "}\n",
    "\n",
    "System.out.println(power(2,3));\n"
   ]
  },
  {
   "cell_type": "code",
   "execution_count": 6,
   "metadata": {},
   "outputs": [
    {
     "name": "stdout",
     "output_type": "stream",
     "text": [
      "3\n"
     ]
    }
   ],
   "source": [
    "// I want you to write a function that will take in a list and see how many times a given number is in the list. \n",
    "\n",
    "// For example if the array given is [2,3,5,2,3,6,7,8,2] and the number given is 2 the function should print out or return 3. Print the output.\n",
    "\n",
    "int count (int givennum, int givenlist[]) {\n",
    "\n",
    "    int track = 0;\n",
    "    int length = givenlist.length;\n",
    "    if (givenlist.length == 0){\n",
    "        System.out.println(\"The array provided was empty. Please provide a valid array.\");\n",
    "    }\n",
    "\n",
    "    for (int i = 0; i<length; i++)\n",
    "        if (givennum == givenlist[i])\n",
    "            track++;\n",
    "    return track;\n",
    "\n",
    "}\n",
    "\n",
    "int list1[]= {2,3,5,2,3,6,7,8,2};\n",
    "int num1 = 2;\n",
    "System.out.println(count(num1, list1));\n",
    "\n"
   ]
  },
  {
   "cell_type": "code",
   "execution_count": 7,
   "metadata": {},
   "outputs": [
    {
     "name": "stdout",
     "output_type": "stream",
     "text": [
      "C is 5.0 C squared is 25.0\n"
     ]
    }
   ],
   "source": [
    "// Give me a function that gives the answer to the pythagorean theorem. \n",
    "// I'd like you to reuse the exponent function from above as well as the functions below to make your function.\n",
    "\n",
    "// If you don't remember the pythagorean theorem the formula is (a^2 + b^2 = c^2). Given a and b as parameters i'd like you to return c. \n",
    "// If this doesn't make sense look up `Pythagorean Theorem Formula` on google.\n",
    "\n",
    "\n",
    "double addition(double a, double b) {\n",
    "    double answer = (double)a + (double)b;\n",
    "    return answer;\n",
    "}\n",
    "\n",
    "double division(int a, int b) {\n",
    "    int answer = a / b;\n",
    "    return answer;\n",
    "}\n",
    "\n",
    "void pythagorean_theorem(int a, int b) {\n",
    "    double a_squared = power(a,2);\n",
    "    double b_squared = power(b,2);\n",
    "    double c_squared = addition(a_squared, b_squared);\n",
    "    double c = Math.sqrt(c_squared);\n",
    "\n",
    "    System.out.println(\"C is \"+c +\" C squared is \" +c_squared);\n",
    "}\n",
    "\n",
    "pythagorean_theorem(3,4);\n",
    "\n",
    "\n"
   ]
  },
  {
   "cell_type": "code",
   "execution_count": null,
   "metadata": {},
   "outputs": [],
   "source": []
  },
  {
   "cell_type": "markdown",
   "metadata": {},
   "source": []
  }
 ],
 "metadata": {
  "kernelspec": {
   "display_name": "Java",
   "language": "java",
   "name": "java"
  },
  "language_info": {
   "codemirror_mode": "java",
   "file_extension": ".jshell",
   "mimetype": "text/x-java-source",
   "name": "Java",
   "pygments_lexer": "java",
   "version": "15.0.2+7-27"
  }
 },
 "nbformat": 4,
 "nbformat_minor": 4
}
